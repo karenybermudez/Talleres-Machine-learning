{
  "nbformat": 4,
  "nbformat_minor": 0,
  "metadata": {
    "colab": {
      "provenance": []
    },
    "kernelspec": {
      "name": "python3",
      "display_name": "Python 3"
    },
    "language_info": {
      "name": "python"
    }
  },
  "cells": [
    {
      "cell_type": "markdown",
      "source": [
        "#Taller #1\n",
        "crear una funcion que sume dos numeros y divida la suma entre un tercero\n"
      ],
      "metadata": {
        "id": "4JU3vswCwU6K"
      }
    },
    {
      "cell_type": "code",
      "source": [
        "from __future__ import division\n",
        "from re import I\n",
        "def suma_enteros(a: int, b:int, c:int):\n",
        "\n",
        "  if type(a) == int and type(b) == int and type(c)== int:\n",
        "    suma = a + b\n",
        "    if c!= 0:\n",
        "      print(suma/c)\n",
        "    else:\n",
        "        print(\"c debe ser diferente de 0\")\n",
        "  else:\n",
        "          print(f\"los datos ingresados deben ser enteros.\")"
      ],
      "metadata": {
        "id": "LldIatHswgHx"
      },
      "execution_count": 53,
      "outputs": []
    },
    {
      "cell_type": "code",
      "source": [
        "suma_enteros(2,8,2)"
      ],
      "metadata": {
        "colab": {
          "base_uri": "https://localhost:8080/"
        },
        "id": "pXDXInZo2HGl",
        "outputId": "9e59a669-a911-450f-d6e5-a2f8f3e45f87"
      },
      "execution_count": 56,
      "outputs": [
        {
          "output_type": "stream",
          "name": "stdout",
          "text": [
            "5.0\n"
          ]
        }
      ]
    },
    {
      "cell_type": "code",
      "source": [
        "suma_enteros (\"m\",5,6)"
      ],
      "metadata": {
        "colab": {
          "base_uri": "https://localhost:8080/"
        },
        "id": "WoGpyrAj7eJ_",
        "outputId": "2901422d-e118-4987-cefd-399b4ea32af6"
      },
      "execution_count": 59,
      "outputs": [
        {
          "output_type": "stream",
          "name": "stdout",
          "text": [
            "los datos ingresados deben ser enteros.\n"
          ]
        }
      ]
    },
    {
      "cell_type": "code",
      "source": [
        "suma_enteros(3,7,0)"
      ],
      "metadata": {
        "colab": {
          "base_uri": "https://localhost:8080/"
        },
        "id": "o0ahQtxK7i6v",
        "outputId": "5e64e33d-4879-419f-83a8-847332eca0c2"
      },
      "execution_count": 62,
      "outputs": [
        {
          "output_type": "stream",
          "name": "stdout",
          "text": [
            "c debe ser diferente de 0\n"
          ]
        }
      ]
    }
  ]
}