{
  "nbformat": 4,
  "nbformat_minor": 0,
  "metadata": {
    "colab": {
      "provenance": []
    },
    "kernelspec": {
      "name": "python3",
      "display_name": "Python 3"
    },
    "language_info": {
      "name": "python"
    }
  },
  "cells": [
    {
      "cell_type": "markdown",
      "source": [],
      "metadata": {
        "id": "Ag6rkqNA8AeL"
      }
    },
    {
      "cell_type": "markdown",
      "source": [
        "# **TALLER #2**\n",
        "1.   >VANESSA JIMENEZ\n",
        "2.   >KAREN BERMUDEZ\n",
        "3.   >NATALIA CABALLERO\n",
        "\n",
        "\n",
        "\n",
        "\n"
      ],
      "metadata": {
        "id": "bS1V_I828QDy"
      }
    },
    {
      "cell_type": "markdown",
      "source": [
        "1. Define dos variables, nombre y edad, e imprime un mensaje de saludo que las utilice."
      ],
      "metadata": {
        "id": "Em2nionvQ1LL"
      }
    },
    {
      "cell_type": "code",
      "execution_count": null,
      "metadata": {
        "id": "_mMzDGBsPYzQ"
      },
      "outputs": [],
      "source": [
        "nombre =  \"Antonella\"\n",
        "edad = 24\n",
        "mensaje = f\"Hola, me llamo {nombre} y tengo {edad} años\"\n",
        "print(mensaje)"
      ]
    },
    {
      "cell_type": "markdown",
      "source": [
        "2. Calcula y muestra el área de un círculo. Pide al usuario que ingrese el radio."
      ],
      "metadata": {
        "id": "pyIKPF-gSpTT"
      }
    },
    {
      "cell_type": "code",
      "source": [
        "radio = float(input(\"Ingresa el radio del círculo: \"))\n",
        "pi = 3.14159\n",
        "area = pi * (radio ** 2)\n",
        "print(f\"El área del círculo con radio {radio} es: {area:.2f}\")"
      ],
      "metadata": {
        "colab": {
          "base_uri": "https://localhost:8080/"
        },
        "id": "rnO7jm0cRLWR",
        "outputId": "49efc1c8-60eb-48b2-ca88-7365856f6b9b"
      },
      "execution_count": null,
      "outputs": [
        {
          "output_type": "stream",
          "name": "stdout",
          "text": [
            "Ingresa el radio del círculo: 6.0\n",
            "El área del círculo con radio 6.0 es: 113.10\n"
          ]
        }
      ]
    },
    {
      "cell_type": "markdown",
      "source": [
        "3. Escribe una función calcular_promedio que tome una lista de números como argumento y devuelva su promedio."
      ],
      "metadata": {
        "id": "jh-yplrgTITV"
      }
    },
    {
      "cell_type": "code",
      "source": [
        "lista=[35, 21, 47, 46, 58, 34, 64, 46, 8, 50, 67, 14, 85, 73, 67, 43, 89, 30, 67, 82]\n",
        "def promedio_std(lista):\n",
        "  x = 0\n",
        "  y = 0\n",
        "  suma = 0\n",
        "  media = sum(lista) / len(lista)\n",
        "  total = 0.0\n",
        "  for i in lista:\n",
        "    suma = suma + i\n",
        "    total = total + (i - media) ** 2\n",
        "    y = (total) ** 0.5\n",
        "    x = suma / len(lista)\n",
        "    return (x, y)"
      ],
      "metadata": {
        "id": "y1xKFmFz2i5a"
      },
      "execution_count": null,
      "outputs": []
    },
    {
      "cell_type": "code",
      "source": [
        "   print(promedio_std(lista))"
      ],
      "metadata": {
        "colab": {
          "base_uri": "https://localhost:8080/"
        },
        "id": "JdHvOYsy4MGu",
        "outputId": "dc656b9b-13ab-49c7-fef1-d5563e1c905b"
      },
      "execution_count": null,
      "outputs": [
        {
          "output_type": "stream",
          "name": "stdout",
          "text": [
            "(1.75, 16.299999999999997)\n"
          ]
        }
      ]
    },
    {
      "cell_type": "markdown",
      "source": [
        "4. Crea una lista de números y utiliza un bucle for para mostrar los números mayores que 10."
      ],
      "metadata": {
        "id": "pVntsDLGTW4Z"
      }
    },
    {
      "cell_type": "code",
      "source": [
        "L2 = [5, 12, 8, 15, 6, 9, 18, 3, 11]\n",
        "print(\"Números mayores que 10:\")\n",
        "for numeromayor in L2:\n",
        "    if numeromayor > 10:\n",
        "        print(numeromayor)"
      ],
      "metadata": {
        "colab": {
          "base_uri": "https://localhost:8080/"
        },
        "id": "6_eoAfvlTdde",
        "outputId": "0fdbf434-accd-4a73-ed8d-3557e1d12be7"
      },
      "execution_count": null,
      "outputs": [
        {
          "output_type": "stream",
          "name": "stdout",
          "text": [
            "Números mayores que 10:\n",
            "12\n",
            "15\n",
            "18\n",
            "11\n"
          ]
        }
      ]
    },
    {
      "cell_type": "markdown",
      "source": [
        "5. Define un diccionario que almacene los precios de tres productos diferentes. Pide al usuario que ingrese el nombre de un producto y muestra su precio.\n"
      ],
      "metadata": {
        "id": "C8zQwwx9UayQ"
      }
    },
    {
      "cell_type": "code",
      "source": [
        "precios = {\n",
        "    \"Guanabana\": 25.99,\n",
        "    \"Mangostino\": 12.49,\n",
        "    \"Banano\": 8.75 }\n",
        "\n",
        "buscar = input(\"Ingresa el nombre de un producto: \")\n",
        "\n",
        "if buscar in precios:\n",
        "    precio = precios[buscar]\n",
        "    print(f\"El precio de '{buscar}' es: ${precio:.2f}\")\n",
        "else:\n",
        "    print(f\"No se encontró información para '{buscar}'.\")\n"
      ],
      "metadata": {
        "id": "pKPg7UjcUeDd"
      },
      "execution_count": null,
      "outputs": []
    },
    {
      "cell_type": "markdown",
      "source": [
        "6. Escribe una función es_primo que determine si un número dado es primo o no."
      ],
      "metadata": {
        "id": "38inh9iSUdYn"
      }
    },
    {
      "cell_type": "code",
      "source": [
        " def es_primo(numero):\n",
        "    if numero <= 1:\n",
        "        return False  # <= a 1 no son primos\n",
        "    elif numero <= 3:\n",
        "        return True\n",
        "    elif numero % 2 == 0 or numero % 3 == 0:\n",
        "        return False\n",
        "\n",
        "    i = 5\n",
        "    while i * i <= numero:\n",
        "        if numero % i == 0 or numero % (i + 2) == 0:\n",
        "            return False\n",
        "        i += 6\n",
        "\n",
        "    return True\n",
        "\n",
        "numero = int(input(\"Ingresa un número: \"))\n",
        "if es_primo(numero):\n",
        "    print(f\"{numero} es un número primo.\")\n",
        "else:\n",
        "    print(f\"{numero} no es un número primo.\")\n"
      ],
      "metadata": {
        "colab": {
          "base_uri": "https://localhost:8080/"
        },
        "id": "StTO6SWlVvE4",
        "outputId": "f95e0d1b-d107-47fc-ead3-a7fd1417b1cd"
      },
      "execution_count": null,
      "outputs": [
        {
          "output_type": "stream",
          "name": "stdout",
          "text": [
            "Ingresa un número: 9\n",
            "9 no es un número primo.\n"
          ]
        }
      ]
    },
    {
      "cell_type": "markdown",
      "source": [
        "7. Crea una lista de nombres y utiliza un bucle while para imprimir cada nombre hasta que encuentres el nombre \"Alex\".\n"
      ],
      "metadata": {
        "id": "4vi_cM8LW1yF"
      }
    },
    {
      "cell_type": "code",
      "source": [
        "nombres = [\"Maria\", \"Vanessa\", \"Natalia\", \"Alex\", \"Karen\", \"Lorena\",\"Lisa\"]\n",
        "indice = 0\n",
        "while indice < len(nombres):\n",
        "    if nombres[indice] == \"Alex\":\n",
        "        print(nombres[indice])\n",
        "    indice += 1"
      ],
      "metadata": {
        "colab": {
          "base_uri": "https://localhost:8080/"
        },
        "id": "XYlE14_6WucH",
        "outputId": "8954b618-5417-4ad2-942f-767097715372"
      },
      "execution_count": null,
      "outputs": [
        {
          "output_type": "stream",
          "name": "stdout",
          "text": [
            "Alex\n"
          ]
        }
      ]
    },
    {
      "cell_type": "markdown",
      "source": [
        "8. Escribe una función invertir_cadena que tome una cadena como argumento y devuelva la cadena invertida.\n"
      ],
      "metadata": {
        "id": "V9q3aM2aXfzk"
      }
    },
    {
      "cell_type": "code",
      "source": [
        "def invertir_cadena(cadena):\n",
        "    cadena_invertida = cadena[::-1]\n",
        "    return cadena_invertida\n",
        "\n",
        "cadena_original = \"Buenas tardes, colaboradores!\"\n",
        "cadena_invertida = invertir_cadena(cadena_original)\n",
        "print(f\"Cadena original: {cadena_original}\")\n",
        "print(f\"Cadena invertida: {cadena_invertida}\")\n"
      ],
      "metadata": {
        "colab": {
          "base_uri": "https://localhost:8080/"
        },
        "id": "zs4JHLyAXfa0",
        "outputId": "b43e0763-b73a-4a8e-8061-ce1a8e8b84f2"
      },
      "execution_count": null,
      "outputs": [
        {
          "output_type": "stream",
          "name": "stdout",
          "text": [
            "Cadena original: Buenas tardes, colaboradores!\n",
            "Cadena invertida: !serodarobaloc ,sedrat saneuB\n"
          ]
        }
      ]
    },
    {
      "cell_type": "markdown",
      "source": [
        "9. Crea una lista de números pares del 2 al 20 utilizando una comprensión de lista.\n"
      ],
      "metadata": {
        "id": "gARSFpg_Xw2p"
      }
    },
    {
      "cell_type": "code",
      "source": [
        "numeros_pares = [numero for numero in range(2, 21, 2)]\n",
        "print(numeros_pares)\n"
      ],
      "metadata": {
        "colab": {
          "base_uri": "https://localhost:8080/"
        },
        "id": "Ygw_V97XXyxg",
        "outputId": "b787a90d-b696-4c46-d786-78f61016743d"
      },
      "execution_count": null,
      "outputs": [
        {
          "output_type": "stream",
          "name": "stdout",
          "text": [
            "[2, 4, 6, 8, 10, 12, 14, 16, 18, 20]\n"
          ]
        }
      ]
    },
    {
      "cell_type": "markdown",
      "source": [
        "10. Escribe un programa que genere los primeros $n$ términos de la serie de Fibonacci a discresión del usuario.\n"
      ],
      "metadata": {
        "id": "V60Y-5FZYFXE"
      }
    },
    {
      "cell_type": "code",
      "source": [
        "def fibonacci(n):\n",
        "    fib_series = []\n",
        "    a, b = 0, 1\n",
        "    for _ in range(n):\n",
        "        fib_series.append(a)\n",
        "        a, b = b, a + b\n",
        "    return fib_series\n",
        "\n",
        "def main():\n",
        "    try:\n",
        "        n = int(input(\"Ingrese la cantidad de términos de la serie de Fibonacci que desea generar: \"))\n",
        "        if n <= 0:\n",
        "            print(\"Ingrese un valor positivo.\")\n",
        "        else:\n",
        "            fib_series = fibonacci(n)\n",
        "            print(f\"Los primeros {n} términos de la serie de Fibonacci son:\")\n",
        "            print(fib_series)\n",
        "    except ValueError:\n",
        "        print(\"Ingrese un número válido.\")\n",
        "\n",
        "if __name__ == \"__main__\":\n",
        "    main()\n"
      ],
      "metadata": {
        "id": "9v42RtwAYLYW",
        "colab": {
          "base_uri": "https://localhost:8080/"
        },
        "outputId": "f5985117-40d0-424e-f434-b954016303e1"
      },
      "execution_count": null,
      "outputs": [
        {
          "output_type": "stream",
          "name": "stdout",
          "text": [
            "Ingrese la cantidad de términos de la serie de Fibonacci que desea generar: 14\n",
            "Los primeros 14 términos de la serie de Fibonacci son:\n",
            "[0, 1, 1, 2, 3, 5, 8, 13, 21, 34, 55, 89, 144, 233]\n"
          ]
        }
      ]
    },
    {
      "cell_type": "markdown",
      "source": [
        "11. Escribe una función calcular_interes_simple que calcule el interés simple dado el principal, la tasa de interés y el tiempo en años.\n"
      ],
      "metadata": {
        "id": "btJSJ5TtYTF5"
      }
    },
    {
      "cell_type": "code",
      "source": [
        "def calcular_interes_simple(principal, tasa_interes, tiempo):\n",
        "    interes = (principal * tasa_interes * tiempo) / 100\n",
        "    return interes\n",
        "\n",
        "principal = float(input(\"Ingresa el monto principal: \"))\n",
        "tasa_interes = float(input(\"Ingresa la tasa de interés (%): \"))\n",
        "tiempo = float(input(\"Ingresa el tiempo en años: \"))\n",
        "\n",
        "interes_calculado = calcular_interes_simple(principal, tasa_interes, tiempo)\n",
        "print(f\"El interés simple es: {interes_calculado:.2f}\")"
      ],
      "metadata": {
        "colab": {
          "base_uri": "https://localhost:8080/"
        },
        "id": "O77k0IntYZXg",
        "outputId": "961db8de-89be-45f1-9d3e-cfd1607c0bd8"
      },
      "execution_count": null,
      "outputs": [
        {
          "output_type": "stream",
          "name": "stdout",
          "text": [
            "Ingresa el monto principal: 5325063\n",
            "Ingresa la tasa de interés (%): 20\n",
            "Ingresa el tiempo en años: 4\n",
            "El interés simple es: 4260050.40\n"
          ]
        }
      ]
    },
    {
      "cell_type": "markdown",
      "source": [
        "12. Crea una lista de precios de acciones. Utiliza una función para calcular el promedio de esos precios.\n"
      ],
      "metadata": {
        "id": "rfXWfj-5Ypb0"
      }
    },
    {
      "cell_type": "code",
      "source": [
        "def calcular_promedio_precios(precios):\n",
        "    if len(precios) == 0:\n",
        "        return None\n",
        "    else:\n",
        "        total = sum(precios)\n",
        "        promedio = total / len(precios)\n",
        "        return promedio\n",
        "\n",
        "precios_acciones = [50.25, 53.40, 49.80, 55.60, 52.75]\n",
        "\n",
        "promedio_precios = calcular_promedio_precios(precios_acciones)\n",
        "\n",
        "if promedio_precios is not None:\n",
        "    print(f\"El promedio de los precios de acciones es: {promedio_precios:.2f}\")\n",
        "else:\n",
        "    print(\"La lista de precios de acciones está vacía.\")\n"
      ],
      "metadata": {
        "colab": {
          "base_uri": "https://localhost:8080/"
        },
        "id": "0IoYCgxtYzEE",
        "outputId": "baf199b1-ce03-4e91-9a9b-b5e01c6e2317"
      },
      "execution_count": null,
      "outputs": [
        {
          "output_type": "stream",
          "name": "stdout",
          "text": [
            "El promedio de los precios de acciones es: 52.36\n"
          ]
        }
      ]
    },
    {
      "cell_type": "markdown",
      "source": [
        "13. Escribe una función convertir_dolares_a_euros que tome una cantidad en dólares y la convierta a euros (usando una tasa de cambio fija)."
      ],
      "metadata": {
        "id": "qUCdpGcXZBd9"
      }
    },
    {
      "cell_type": "code",
      "source": [
        "def convertir_dolares_a_euros(dolares, tasa_cambio):\n",
        "    euros = dolares * tasa_cambio\n",
        "    return euros\n",
        "\n",
        "dolares = float(input(\"Ingresa la cantidad en dólares: \"))\n",
        "tasa_cambio = 0.85\n",
        "euros_convertidos = convertir_dolares_a_euros(dolares, tasa_cambio)\n",
        "print(f\"{dolares:.2f} dólares son equivalentes a {euros_convertidos:.2f} euros.\")\n"
      ],
      "metadata": {
        "colab": {
          "base_uri": "https://localhost:8080/"
        },
        "id": "_XEi5KPRZELU",
        "outputId": "8ed2b6c6-049d-4247-da26-d14ab45d68e6"
      },
      "execution_count": null,
      "outputs": [
        {
          "output_type": "stream",
          "name": "stdout",
          "text": [
            "Ingresa la cantidad en dólares: 140\n",
            "140.00 dólares son equivalentes a 119.00 euros.\n"
          ]
        }
      ]
    },
    {
      "cell_type": "markdown",
      "source": [
        "14. Crea una función calcular_factorial que calcule el factorial de un número dado."
      ],
      "metadata": {
        "id": "XA2W7JXfZWJj"
      }
    },
    {
      "cell_type": "code",
      "source": [
        "def calcular_factorial(numero):\n",
        "    if numero < 0:\n",
        "        return None\n",
        "    elif numero == 0 or numero == 1:\n",
        "        return 1  # Factorial de 0 y 1 es 1\n",
        "    else:\n",
        "        factorial = 1\n",
        "        for i in range(2, numero + 1):\n",
        "            factorial *= i\n",
        "        return factorial\n",
        "\n",
        "numero = int(input(\"Ingresa un número para calcular su factorial: \"))\n",
        "factorial_resultado = calcular_factorial(numero)\n",
        "\n",
        "if factorial_resultado is not None:\n",
        "    print(f\"El factorial de {numero} es: {factorial_resultado}\")\n",
        "else:\n",
        "    print(\"El factorial no está definido para números negativos.\")\n"
      ],
      "metadata": {
        "colab": {
          "base_uri": "https://localhost:8080/"
        },
        "id": "AWrP3q9zZaF9",
        "outputId": "7dbe64d8-e4f0-48bc-d9cb-3c08b7d4bab5"
      },
      "execution_count": null,
      "outputs": [
        {
          "output_type": "stream",
          "name": "stdout",
          "text": [
            "Ingresa un número para calcular su factorial: 3\n",
            "El factorial de 3 es: 6\n"
          ]
        }
      ]
    },
    {
      "cell_type": "markdown",
      "source": [
        "15. Define un diccionario que contenga los nombres y saldos de cuentas bancarias. Escribe una función que encuentre la cuenta con el saldo más alto."
      ],
      "metadata": {
        "id": "3c4QQkmlZqYd"
      }
    },
    {
      "cell_type": "code",
      "source": [
        "def cuenta_con_saldo_mas_alto(cuentas):\n",
        "    saldo_maximo = float('-inf')\n",
        "    cuenta_con_maximo = None\n",
        "\n",
        "    for cuenta, saldo in cuentas.items():\n",
        "        if saldo > saldo_maximo:\n",
        "            saldo_maximo = saldo\n",
        "            cuenta_con_maximo = cuenta\n",
        "\n",
        "    return cuenta_con_maximo\n",
        "\n",
        "cuentas_bancarias = {\n",
        "    'Juan': 2500,\n",
        "    'Sara': 3500,\n",
        "    'Carlos': 4800,\n",
        "    'Ana': 4200\n",
        "}\n",
        "\n",
        "cuenta_maxima = cuenta_con_saldo_mas_alto(cuentas_bancarias)\n",
        "\n",
        "if cuenta_maxima is not None:\n",
        "    print(f\"La cuenta con el saldo más alto es de: {cuenta_maxima}\")\n",
        "else:\n",
        "    print(\"No se encontraron cuentas.\")\n"
      ],
      "metadata": {
        "colab": {
          "base_uri": "https://localhost:8080/"
        },
        "id": "_LhXmv5-Zsup",
        "outputId": "54d625e1-dc12-4158-e4fa-d59e3dfcb007"
      },
      "execution_count": null,
      "outputs": [
        {
          "output_type": "stream",
          "name": "stdout",
          "text": [
            "La cuenta con el saldo más alto es de: Carlos\n"
          ]
        }
      ]
    },
    {
      "cell_type": "markdown",
      "source": [
        "16. Escribe un programa que calcule e imprima los primeros $n$ números triangulares a discresión del usuario."
      ],
      "metadata": {
        "id": "JDQrY-jfaAe3"
      }
    },
    {
      "cell_type": "code",
      "source": [
        "def calc_triangular(n):\n",
        "    nums_tri = []\n",
        "    suma = 0\n",
        "    for i in range(1, n + 1):\n",
        "        suma += i\n",
        "        nums_tri.append(suma)\n",
        "    return nums_tri\n",
        "\n",
        "def main():\n",
        "    try:\n",
        "        n = int(input(\"Ingrese la cantidad de números triangulares que desea calcular: \"))\n",
        "        if n <= 0:\n",
        "            print(\"Ingrese un valor positivo.\")\n",
        "        else:\n",
        "            nums_tri = calc_triangular(n)\n",
        "            print(f\"Los primeros {n} números triangulares son:\")\n",
        "            for num in nums_tri:\n",
        "                print(num, end=\" \")\n",
        "    except ValueError:\n",
        "        print(\"Ingrese un número válido.\")\n",
        "\n",
        "if __name__ == \"__main__\":\n",
        "    main()\n"
      ],
      "metadata": {
        "id": "mi_1G0oFaCKs",
        "colab": {
          "base_uri": "https://localhost:8080/"
        },
        "outputId": "96e1f84c-bcb9-47c2-a964-9ed8df5e2632"
      },
      "execution_count": null,
      "outputs": [
        {
          "output_type": "stream",
          "name": "stdout",
          "text": [
            "Ingrese la cantidad de números triangulares que desea calcular: 21\n",
            "Los primeros 21 números triangulares son:\n",
            "1 3 6 10 15 21 28 36 45 55 66 78 91 105 120 136 153 171 190 210 231 "
          ]
        }
      ]
    },
    {
      "cell_type": "markdown",
      "source": [
        "17. Crea una función calcular_descuento que calcule el precio final después de aplicar un descuento a un artículo.\n"
      ],
      "metadata": {
        "id": "BzOQ-1mhaIYI"
      }
    },
    {
      "cell_type": "code",
      "source": [
        "def calcular_descuento(precio_original, descuento_porcentaje):\n",
        "    descuento = (precio_original * descuento_porcentaje) / 100\n",
        "    precio_final = precio_original - descuento\n",
        "    return precio_final\n",
        "\n",
        "precio_original = float(input(\"Ingresa el precio original del artículo: \"))\n",
        "descuento_porcentaje = float(input(\"Ingresa el porcentaje de descuento: \"))\n",
        "precio_final = calcular_descuento(precio_original, descuento_porcentaje)\n",
        "\n",
        "print(f\"El precio final después del descuento es: {precio_final:.2f}\")\n"
      ],
      "metadata": {
        "colab": {
          "base_uri": "https://localhost:8080/"
        },
        "id": "xB7MHp_5aK3j",
        "outputId": "df04b5d0-64d5-4da2-818f-e7720ab7c111"
      },
      "execution_count": null,
      "outputs": [
        {
          "output_type": "stream",
          "name": "stdout",
          "text": [
            "Ingresa el precio original del artículo: 899990\n",
            "Ingresa el porcentaje de descuento: 40\n",
            "El precio final después del descuento es: 539994.00\n"
          ]
        }
      ]
    },
    {
      "cell_type": "markdown",
      "source": [
        "18. Escribe una función que tome una lista de números y devuelva una nueva lista con solo los números pares.\n"
      ],
      "metadata": {
        "id": "hNWn8XdiahWc"
      }
    },
    {
      "cell_type": "code",
      "source": [
        "def filtrar_numeros_pares(lista_numeros):\n",
        "    numeros_pares = [numero for numero in lista_numeros if numero % 2 == 0]\n",
        "    return numeros_pares\n",
        "\n",
        "numeros = [5, 12, 8, 15, 6, 9, 18, 3, 11]\n",
        "numeros_pares = filtrar_numeros_pares(numeros)\n",
        "print(f\"Los números pares son: {numeros_pares}\")\n"
      ],
      "metadata": {
        "colab": {
          "base_uri": "https://localhost:8080/"
        },
        "id": "lcCqFkmYakR-",
        "outputId": "e115d900-6539-482a-820b-ec89203d51b8"
      },
      "execution_count": null,
      "outputs": [
        {
          "output_type": "stream",
          "name": "stdout",
          "text": [
            "Los números pares son: [12, 8, 6, 18]\n"
          ]
        }
      ]
    },
    {
      "cell_type": "markdown",
      "source": [
        "19. Crea una lista de números y utiliza una función para encontrar el número más grande y el más pequeño.\n"
      ],
      "metadata": {
        "id": "LqZKfM9hbA_7"
      }
    },
    {
      "cell_type": "code",
      "source": [
        "def buscar_extremos(lista):\n",
        "    minimo = float('inf')\n",
        "    maximo = float('-inf')\n",
        "\n",
        "    for num in lista:\n",
        "        if num < minimo:\n",
        "            minimo = num\n",
        "        if num > maximo:\n",
        "            maximo = num\n",
        "\n",
        "    return minimo, maximo\n",
        "\n",
        "l5 = [5, 20, 3, 8, 15, 10, 30, 62, 2]\n",
        "\n",
        "minimo, maximo = buscar_extremos(l5)\n",
        "print(\"El número más pequeño es:\", minimo)\n",
        "print(\"El número más grande es:\", maximo)\n"
      ],
      "metadata": {
        "id": "sYkLjSOpbTh-"
      },
      "execution_count": null,
      "outputs": []
    },
    {
      "cell_type": "markdown",
      "source": [
        "20. Escribe un programa que genere e imprima los primeros $n$ términos de la secuencia de números de Pell a discresión del usuario.\n"
      ],
      "metadata": {
        "id": "cTQuMfQgbUoH"
      }
    },
    {
      "cell_type": "code",
      "source": [
        "def calc_pell(n):\n",
        "    pell_nums = [0, 1]\n",
        "    for i in range(2, n):\n",
        "        next_num = 2 * pell_nums[i - 1] + pell_nums[i - 2]\n",
        "        pell_nums.append(next_num)\n",
        "    return pell_nums[:n]\n",
        "\n",
        "def main():\n",
        "    try:\n",
        "        n = int(input(\"Ingrese la cantidad de términos de la secuencia de Pell que desea generar: \"))\n",
        "        if n <= 0:\n",
        "            print(\"Ingrese un valor positivo.\")\n",
        "        else:\n",
        "            pell_nums = calc_pell(n)\n",
        "            print(f\"Los primeros {n} términos de la secuencia de Pell son:\")\n",
        "            for num in pell_nums:\n",
        "                print(num, end=\" \")\n",
        "    except ValueError:\n",
        "        print(\"Ingrese un número válido.\")\n",
        "\n",
        "if __name__ == \"__main__\":\n",
        "    main()\n"
      ],
      "metadata": {
        "id": "lJvHxZ9lbWos",
        "colab": {
          "base_uri": "https://localhost:8080/"
        },
        "outputId": "bafe3862-aa5b-4f7f-d385-b33062761064"
      },
      "execution_count": null,
      "outputs": [
        {
          "output_type": "stream",
          "name": "stdout",
          "text": [
            "Ingrese la cantidad de términos de la secuencia de Pell que desea generar: 11\n",
            "Los primeros 11 términos de la secuencia de Pell son:\n",
            "0 1 2 5 12 29 70 169 408 985 2378 "
          ]
        }
      ]
    },
    {
      "cell_type": "markdown",
      "source": [
        "21. Crea una función calcular_amortizacion que calcule la amortización de un\n",
        "préstamo a lo largo del tiempo.\n"
      ],
      "metadata": {
        "id": "uxSD3N31bX1f"
      }
    },
    {
      "cell_type": "code",
      "source": [
        "def calcular_amortizacion(monto_prestamo, tasa_interes, plazo_meses):\n",
        "    tasa_mensual = tasa_interes / 100 / 12\n",
        "    cuota_mensual = (monto_prestamo * tasa_mensual) / (1 - (1 + tasa_mensual) ** -plazo_meses)\n",
        "\n",
        "    amortizacion_lista = []\n",
        "    for mes in range(1, plazo_meses + 1):\n",
        "        interes_mensual = monto_prestamo * tasa_mensual\n",
        "        principal_mensual = cuota_mensual - interes_mensual\n",
        "        monto_prestamo -= principal_mensual\n",
        "        amortizacion_lista.append((mes, cuota_mensual, principal_mensual, interes_mensual, monto_prestamo))\n",
        "\n",
        "    return amortizacion_lista\n",
        "\n",
        "# Ejemplo de uso\n",
        "monto = float(input(\"Monto del préstamo: \"))\n",
        "tasa = float(input(\"Tasa de interés anual (%): \"))\n",
        "plazo = int(input(\"Plazo en meses: \"))\n",
        "\n",
        "amortizacion = calcular_amortizacion(monto, tasa, plazo)\n",
        "\n",
        "print(\"Mes | Cuota Mensual | Principal | Interés | Saldo Pendiente\")\n",
        "print(\"-\" * 55)\n",
        "for mes, cuota, principal, interes, saldo in amortizacion:\n",
        "    print(f\"{mes:3d} | {cuota:.2f} | {principal:.2f} | {interes:.2f} | {saldo:.2f}\")\n"
      ],
      "metadata": {
        "id": "9vzHh61qbhdG",
        "colab": {
          "base_uri": "https://localhost:8080/"
        },
        "outputId": "00ccdb66-9399-47dc-eb25-6f37e3de7640"
      },
      "execution_count": null,
      "outputs": [
        {
          "output_type": "stream",
          "name": "stdout",
          "text": [
            "Monto del préstamo: 6325100\n",
            "Tasa de interés anual (%): 3.5\n",
            "Plazo en meses: 12\n",
            "Mes | Cuota Mensual | Principal | Interés | Saldo Pendiente\n",
            "-------------------------------------------------------\n",
            "  1 | 537137.80 | 518689.59 | 18448.21 | 5806410.41\n",
            "  2 | 537137.80 | 520202.44 | 16935.36 | 5286207.97\n",
            "  3 | 537137.80 | 521719.69 | 15418.11 | 4764488.28\n",
            "  4 | 537137.80 | 523241.38 | 13896.42 | 4241246.90\n",
            "  5 | 537137.80 | 524767.50 | 12370.30 | 3716479.40\n",
            "  6 | 537137.80 | 526298.07 | 10839.73 | 3190181.33\n",
            "  7 | 537137.80 | 527833.11 | 9304.70 | 2662348.23\n",
            "  8 | 537137.80 | 529372.62 | 7765.18 | 2132975.61\n",
            "  9 | 537137.80 | 530916.62 | 6221.18 | 1602058.99\n",
            " 10 | 537137.80 | 532465.13 | 4672.67 | 1069593.86\n",
            " 11 | 537137.80 | 534018.15 | 3119.65 | 535575.71\n",
            " 12 | 537137.80 | 535575.71 | 1562.10 | 0.00\n"
          ]
        }
      ]
    },
    {
      "cell_type": "markdown",
      "source": [
        "22. Escribe un programa que determine si un número dado es un número perfecto o no."
      ],
      "metadata": {
        "id": "-sIosHQRbhwW"
      }
    },
    {
      "cell_type": "code",
      "source": [
        "def es_numero_perfecto(numero):\n",
        "    suma_divisores = 0\n",
        "    for i in range(1, numero):\n",
        "        if numero % i == 0:\n",
        "            suma_divisores += i\n",
        "    return suma_divisores == numero\n",
        "\n",
        "# Pedir al usuario un número para verificar si es perfecto\n",
        "numero = int(input(\"Ingresa un número para verificar si es perfecto: \"))\n",
        "\n",
        "if es_numero_perfecto(numero):\n",
        "    print(f\"{numero} es un número perfecto.\")\n",
        "else:\n",
        "    print(f\"{numero} no es un número perfecto.\")\n"
      ],
      "metadata": {
        "colab": {
          "base_uri": "https://localhost:8080/"
        },
        "id": "EKgLfrlYbiSu",
        "outputId": "87bf8c3c-6813-4063-caef-3efede3fe898"
      },
      "execution_count": null,
      "outputs": [
        {
          "output_type": "stream",
          "name": "stdout",
          "text": [
            "Ingresa un número para verificar si es perfecto: 88\n",
            "88 no es un número perfecto.\n"
          ]
        }
      ]
    },
    {
      "cell_type": "markdown",
      "source": [
        "23. Define un diccionario que almacene las tasas de interés para diferentes tipos de préstamos. Pide al usuario que ingrese un tipo de préstamo y muestra la tasa de interés correspondiente."
      ],
      "metadata": {
        "id": "QM4qE9hAbotB"
      }
    },
    {
      "cell_type": "code",
      "source": [
        "def mostrar_tasa_interes(diccionario_tasas, tipo_prestamo):\n",
        "    if tipo_prestamo in diccionario_tasas:\n",
        "        tasa_interes = diccionario_tasas[tipo_prestamo]\n",
        "        print(f\"La tasa de interés para el préstamo '{tipo_prestamo}' es: {tasa_interes}%\")\n",
        "    else:\n",
        "        print(\"Tipo de préstamo no encontrado en el diccionario.\")\n",
        "\n",
        "tasas_interes = {\n",
        "    'personal': 10.5,\n",
        "    'hipotecario': 6.8,\n",
        "    'automotriz': 8.2,\n",
        "    'educativo': 9.0\n",
        "}\n",
        "\n",
        "tipo_prestamo_usuario = input(\"Ingresa un tipo de préstamo: \").lower()\n",
        "\n",
        "mostrar_tasa_interes(tasas_interes, tipo_prestamo_usuario)\n"
      ],
      "metadata": {
        "colab": {
          "base_uri": "https://localhost:8080/"
        },
        "id": "DKSa8iaVbzE9",
        "outputId": "c28c9e7e-907f-4b5e-92c8-5aba59c5e467"
      },
      "execution_count": null,
      "outputs": [
        {
          "output_type": "stream",
          "name": "stdout",
          "text": [
            "Ingresa un tipo de préstamo: educativo\n",
            "La tasa de interés para el préstamo 'educativo' es: 9.0%\n"
          ]
        }
      ]
    },
    {
      "cell_type": "markdown",
      "source": [
        "24. Escribe una función calcular_media_geometrica que calcule la media geométrica de una lista de números."
      ],
      "metadata": {
        "id": "dT1DGaX1cGCs"
      }
    },
    {
      "cell_type": "code",
      "source": [
        "def calcular_media_geometrica(lista_numeros):\n",
        "    producto = 1\n",
        "    cantidad_numeros = len(lista_numeros)\n",
        "\n",
        "    for numero in lista_numeros:\n",
        "        producto *= numero\n",
        "\n",
        "    media_geometrica = producto ** (1 / cantidad_numeros)\n",
        "    return media_geometrica\n",
        "\n",
        "numeros = [2, 4, 8, 16, 40, 66]\n",
        "media_geometrica_resultado = calcular_media_geometrica(numeros)\n",
        "print(f\"La media geométrica de la lista de números es: {media_geometrica_resultado:.2f}\")\n"
      ],
      "metadata": {
        "colab": {
          "base_uri": "https://localhost:8080/"
        },
        "id": "ZewQTOQ7bAoQ",
        "outputId": "69809cc1-6fc4-48fa-8371-1353d01aaba1"
      },
      "execution_count": null,
      "outputs": [
        {
          "output_type": "stream",
          "name": "stdout",
          "text": [
            "La media geométrica de la lista de números es: 11.80\n"
          ]
        }
      ]
    },
    {
      "cell_type": "markdown",
      "source": [
        "25. Crea una lista de números y utiliza una función para encontrar el segundo número más grande.\n"
      ],
      "metadata": {
        "id": "lP1WxkKkcSR9"
      }
    },
    {
      "cell_type": "code",
      "source": [
        "def encontrar_segundo_mas_grande(lista_numeros):\n",
        "    if len(lista_numeros) < 2:\n",
        "        return None\n",
        "    numeros_unicos = set(lista_numeros)\n",
        "\n",
        "    numeros_ordenados = sorted(numeros_unicos, reverse=True)\n",
        "\n",
        "    segundo_mas_grande = numeros_ordenados[1]\n",
        "    return segundo_mas_grande\n",
        "\n",
        "numeros = [15, 8, 32, 19, 5, 11, 25]\n",
        "segundo_mas_grande = encontrar_segundo_mas_grande(numeros)\n",
        "\n",
        "if segundo_mas_grande is not None:\n",
        "    print(f\"El segundo número más grande es: {segundo_mas_grande}\")\n",
        "else:\n",
        "    print(\"La lista de números no tiene suficientes elementos.\")\n"
      ],
      "metadata": {
        "colab": {
          "base_uri": "https://localhost:8080/"
        },
        "id": "CsrCKsGJcUSx",
        "outputId": "a98c652e-c53a-49ef-90c6-b961ec3b122b"
      },
      "execution_count": null,
      "outputs": [
        {
          "output_type": "stream",
          "name": "stdout",
          "text": [
            "El segundo número más grande es: 25\n"
          ]
        }
      ]
    },
    {
      "cell_type": "markdown",
      "source": [
        "26. Escribe un programa que calcule e imprima los primeros $n$ números de la serie de los números de Lucas a discresión del usuario.\n"
      ],
      "metadata": {
        "id": "8sD75gVcc1gk"
      }
    },
    {
      "cell_type": "code",
      "source": [
        "def lucas_series(n):\n",
        "    if n == 0:\n",
        "        return []\n",
        "    elif n == 1:\n",
        "        return [2]\n",
        "    elif n == 2:\n",
        "        return [2, 1]\n",
        "    else:\n",
        "        series = [2, 1]\n",
        "        for i in range(2, n):\n",
        "            next_number = series[-1] + series[-2]\n",
        "            series.append(next_number)\n",
        "        return series\n",
        "\n",
        "def main():\n",
        "    try:\n",
        "        n = int(input(\"Ingresa el valor de n para la serie de Lucas: \"))\n",
        "        if n < 0:\n",
        "            print(\"Por favor, ingresa un número positivo.\")\n",
        "        else:\n",
        "            lucas_numbers = lucas_series(n)\n",
        "            print(f\"Los primeros {n} números de la serie de Lucas son:\")\n",
        "            for num in lucas_numbers:\n",
        "                print(num, end=\" \")\n",
        "    except ValueError:\n",
        "        print(\"Ingresa un valor numérico válido.\")\n",
        "\n",
        "if __name__ == \"__main__\":\n",
        "    main()\n"
      ],
      "metadata": {
        "id": "KTxbIsQtc4nx",
        "colab": {
          "base_uri": "https://localhost:8080/"
        },
        "outputId": "0fe4f6bd-08bf-4e27-ce2a-6f56743a49f5"
      },
      "execution_count": null,
      "outputs": [
        {
          "output_type": "stream",
          "name": "stdout",
          "text": [
            "Ingresa el valor de n para la serie de Lucas: 8\n",
            "Los primeros 8 números de la serie de Lucas son:\n",
            "2 1 3 4 7 11 18 29 "
          ]
        }
      ]
    },
    {
      "cell_type": "markdown",
      "source": [
        "27. Crea una función calcular_cuota_mensual que calcule la cuota mensual de un préstamo hipotecario.\n"
      ],
      "metadata": {
        "id": "Xyadac57c45w"
      }
    },
    {
      "cell_type": "code",
      "source": [
        "def calcular_cuota_mensual(monto_prestamo, tasa_interes_anual, plazo_anios):\n",
        "    tasa_interes_mensual = (tasa_interes_anual / 100) / 12\n",
        "    plazo_meses = plazo_anios * 12\n",
        "\n",
        "    cuota_mensual = (monto_prestamo * tasa_interes_mensual) / (1 - (1 + tasa_interes_mensual)**-plazo_meses)\n",
        "    return cuota_mensual\n",
        "\n",
        "# Ejemplo de uso\n",
        "monto_prestamo = float(input(\"Ingresa el monto del préstamo: \"))\n",
        "tasa_interes_anual = float(input(\"Ingresa la tasa de interés anual (%): \"))\n",
        "plazo_anios = int(input(\"Ingresa el plazo en años: \"))\n",
        "\n",
        "cuota_mensual_resultado = calcular_cuota_mensual(monto_prestamo, tasa_interes_anual, plazo_anios)\n",
        "print(f\"La cuota mensual del préstamo es: {cuota_mensual_resultado:.2f}\")\n"
      ],
      "metadata": {
        "colab": {
          "base_uri": "https://localhost:8080/"
        },
        "id": "6Mdvwul8c7TG",
        "outputId": "dc3f2114-3c95-44b7-c7c9-dbb556a6d806"
      },
      "execution_count": null,
      "outputs": [
        {
          "output_type": "stream",
          "name": "stdout",
          "text": [
            "Ingresa el monto del préstamo: 5678960\n",
            "Ingresa la tasa de interés anual (%): 7\n",
            "Ingresa el plazo en años: 2\n",
            "La cuota mensual del préstamo es: 254261.69\n"
          ]
        }
      ]
    },
    {
      "cell_type": "markdown",
      "source": [
        "28. Escribe una función que determine si un número es un número de Armstrong (un número de n dígitos que es igual a la suma de sus dígitos elevados a la n).\n"
      ],
      "metadata": {
        "id": "qsK_o-wLdNW0"
      }
    },
    {
      "cell_type": "code",
      "source": [
        "def es_numero_armstrong(numero):\n",
        "    num_str = str(numero)\n",
        "    n = len(num_str)\n",
        "    suma_digitos = sum(int(digito)**n for digito in num_str)\n",
        "    return suma_digitos == numero\n",
        "\n",
        "numero = int(input(\"Ingresa un número para verificar si es un número de Armstrong: \"))\n",
        "\n",
        "if es_numero_armstrong(numero):\n",
        "    print(f\"{numero} es un número de Armstrong.\")\n",
        "else:\n",
        "    print(f\"{numero} no es un número de Armstrong.\")\n"
      ],
      "metadata": {
        "colab": {
          "base_uri": "https://localhost:8080/"
        },
        "id": "dlNQ_YvudP9v",
        "outputId": "f60018b9-9cb8-457b-cdd0-d732c4ed8647"
      },
      "execution_count": null,
      "outputs": [
        {
          "output_type": "stream",
          "name": "stdout",
          "text": [
            "Ingresa un número para verificar si es un número de Armstrong: 4\n",
            "4 es un número de Armstrong.\n"
          ]
        }
      ]
    },
    {
      "cell_type": "markdown",
      "source": [
        "29. Define un diccionario que almacene los símbolos de moneda y sus respectivos códigos. Escribe un programa que convierta una cantidad de dinero de una moneda a otra."
      ],
      "metadata": {
        "id": "3HsvGnWfdZbh"
      }
    },
    {
      "cell_type": "code",
      "source": [
        "def convertir_moneda(cantidad, moneda_origen, moneda_destino, tasas_cambio):\n",
        "    if moneda_origen in tasas_cambio and moneda_destino in tasas_cambio:\n",
        "        tasa_conversion = tasas_cambio[moneda_destino] / tasas_cambio[moneda_origen]\n",
        "        cantidad_convertida = cantidad * tasa_conversion\n",
        "        return cantidad_convertida\n",
        "    else:\n",
        "        return None\n",
        "\n",
        "tasas_cambio = {\n",
        "    'USD': 1.0,\n",
        "    'EUR': 0.85,\n",
        "    'JPY': 109.49,\n",
        "    'COP': 0.72\n",
        "}\n",
        "\n",
        "cantidad = float(input(\"Ingresa la cantidad de dinero: \"))\n",
        "moneda_origen = input(\"Ingresa la moneda de origen (USD, EUR, JPY, COP): \").upper()\n",
        "moneda_destino = input(\"Ingresa la moneda de destino (USD, EUR, JPY, COP): \").upper()\n",
        "\n",
        "# Convertir la cantidad de dinero utilizando la función\n",
        "cantidad_convertida = convertir_moneda(cantidad, moneda_origen, moneda_destino, tasas_cambio)\n",
        "\n",
        "if cantidad_convertida is not None:\n",
        "    print(f\"{cantidad:.2f} {moneda_origen} equivale a {cantidad_convertida:.2f} {moneda_destino}\")\n",
        "else:\n",
        "    print(\"Moneda de origen o destino no encontrada en las tasas de cambio.\")\n"
      ],
      "metadata": {
        "colab": {
          "base_uri": "https://localhost:8080/"
        },
        "id": "SsHLdx_WdcXU",
        "outputId": "59f2ca51-4fb1-49fd-d46e-a369fddf171c"
      },
      "execution_count": null,
      "outputs": [
        {
          "output_type": "stream",
          "name": "stdout",
          "text": [
            "Ingresa la cantidad de dinero: 450000\n",
            "Ingresa la moneda de origen (USD, EUR, JPY, COP): COP\n",
            "Ingresa la moneda de destino (USD, EUR, JPY, COP): EUR\n",
            "450000.00 COP equivale a 531250.00 EUR\n"
          ]
        }
      ]
    },
    {
      "cell_type": "markdown",
      "source": [
        "30. Crea una función que calcule la desviación estándar de una lista de números."
      ],
      "metadata": {
        "id": "5VQb9LNYeGRf"
      }
    },
    {
      "cell_type": "code",
      "source": [
        "import math\n",
        "\n",
        "def calculate_standard_deviation(numeros):\n",
        "    n = len(numeros)\n",
        "\n",
        "    if n <= 1:\n",
        "        return 0.0\n",
        "\n",
        "    media = sum(numeros) / n\n",
        "    squared_diff_sum = sum((x - media) ** 2 for x in numeros)\n",
        "    variance = squared_diff_sum / (n - 1)\n",
        "    std_deviation = math.sqrt(variance)\n",
        "\n",
        "    return std_deviation\n",
        "\n",
        "# Ejemplo\n",
        "data = [2, 2, 4, 4, 5, 5, 7, 9, 9, 15, 40 ]\n",
        "std_dev = calculate_standard_deviation(data)\n",
        "print(f\"Desviación estándar: {std_dev:.2f}\")\n",
        "\n"
      ],
      "metadata": {
        "id": "U3mw_Z5LeKxD",
        "colab": {
          "base_uri": "https://localhost:8080/"
        },
        "outputId": "a4205d9d-c175-47e9-d299-9306301f7bf6"
      },
      "execution_count": null,
      "outputs": [
        {
          "output_type": "stream",
          "name": "stdout",
          "text": [
            "Desviación estándar: 10.86\n"
          ]
        }
      ]
    }
  ]
}